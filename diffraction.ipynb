{
 "cells": [
  {
   "cell_type": "code",
   "execution_count": 1,
   "id": "afb5f067",
   "metadata": {},
   "outputs": [],
   "source": [
    "import numpy as np\n",
    "import diffraction as diff\n",
    "import matplotlib.pyplot as plt\n",
    "import matplotlib.cm as cm\n",
    "import time as time\n",
    "from matplotlib.widgets import Button\n",
    "import scipy.io\n",
    "from matplotlib.widgets import RangeSlider"
   ]
  },
  {
   "cell_type": "code",
   "execution_count": 2,
   "id": "75ddad61",
   "metadata": {},
   "outputs": [],
   "source": [
    "# use thetax and thetay to adjust initial orientation of the sample\n",
    "thetax=np.pi/2*0\n",
    "thetay=np.pi/2*1\n",
    "hkl_dimension=5\n",
    "\n",
    "# sigma_theta, if you need a small number for single crystal, input~0.01, if you need infinity, input~1000\n",
    "sigma1=0.02\n",
    "\n",
    "# sigma_phi\n",
    "sigma2=0.02\n",
    "\n",
    "# sigma_r, use this to tune the peak linewidth\n",
    "sigma3=0.02\n",
    "\n",
    "# settings for imagine plane\n",
    "resolutionx=300\n",
    "qxymax=5\n",
    "qzmax=3\n",
    "\n",
    "resolutionz=int(resolutionx/qxymax*qzmax)\n",
    "gridx,gridz=np.meshgrid(np.linspace(-qxymax,qxymax,resolutionx),np.linspace(0,qzmax,resolutionz))"
   ]
  },
  {
   "cell_type": "code",
   "execution_count": 3,
   "id": "6356fbf7",
   "metadata": {},
   "outputs": [],
   "source": [
    "# read crystal structure(POSCAR file which can be converted easily from cif on VESTA)\n",
    "dirr = 'D:\\\\research\\diff2D_simulation\\input\\\\'\n",
    "filename = 'FASnI3_298K'\n",
    "address = dirr + filename +'.vasp'\n",
    "a1,a2,a3,positions=diff.read_poscar(address) # example (graphite)\n",
    "Bpeaks = diff.Bragg_peaks(a1,a2,a3,positions,thetax,thetay,hkl_dimension)\n",
    "# Bpeaks = diff.diffuse(a1,a2,a3,positions,thetax,thetay,hkl_dimension,0)\n",
    "# Bpeaks.shape"
   ]
  },
  {
   "cell_type": "code",
   "execution_count": 4,
   "id": "89727920",
   "metadata": {},
   "outputs": [
    {
     "name": "stdout",
     "output_type": "stream",
     "text": [
      "cpu time =\n",
      "9.34375 s\n"
     ]
    }
   ],
   "source": [
    "t1_start = time.process_time()\n",
    "# calculated GIWAXS pattern\n",
    "III=diff.intensity(gridx,gridz,Bpeaks,sigma1,sigma2,sigma3,hkl_dimension)\n",
    "t1_stop = time.process_time()\n",
    "print('cpu time =')\n",
    "print(t1_stop-t1_start,'s')"
   ]
  },
  {
   "cell_type": "code",
   "execution_count": 5,
   "id": "ad30d63f",
   "metadata": {},
   "outputs": [
    {
     "data": {
      "image/png": "[encoded data removed]",
      "text/plain": [
       "<Figure size 1440x720 with 1 Axes>"
      ]
     },
     "metadata": {
      "needs_background": "light"
     },
     "output_type": "display_data"
    }
   ],
   "source": [
    " # make the plot\n",
    "colorbar=0.00001   # upper limit\n",
    "    \n",
    "II1=np.log(III+1)\n",
    "\n",
    "II1=III\n",
    "fig,ax=plt.subplots(figsize=(7,7))\n",
    "\n",
    "ax.imshow(II1, interpolation='nearest', cmap=cm.jet,\n",
    "               origin='lower', extent=[-qxymax, qxymax, 0, qzmax],\n",
    "               vmax=colorbar*II1.max(), vmin=II1.min())\n",
    "ax.set_xlabel('q$_{xy}$(1/A)',fontsize=16)\n",
    "ax.set_ylabel('q$_{z}$(1/A)',fontsize=16)\n",
    "ax.set_title(filename+' GIWAXS simulation',fontsize=16)\n",
    "fig.set_size_inches([20,10])\n",
    "plt.savefig(dirr + filename +'_1' +'.pdf')\n",
    "# scipy.io.savemat(dirr+filename+'.mat', {'a': III})"
   ]
  },
  {
   "cell_type": "code",
   "execution_count": 29,
   "id": "c2df925d",
   "metadata": {},
   "outputs": [
    {
     "name": "stdout",
     "output_type": "stream",
     "text": [
      "Using matplotlib backend: Qt5Agg\n"
     ]
    }
   ],
   "source": [
    "# compare exp data with simulation\n",
    "\n",
    "# load GIWAXS data and input qxy qz range\n",
    "%matplotlib\n",
    "\n",
    "# dirr = ''\n",
    "filename = 'exp_data'\n",
    "f = scipy.io.loadmat(filename+'.mat')\n",
    "Giwaxs_data=f['a']\n",
    "Giwaxs_data=np.array(Giwaxs_data)\n",
    "# Giwaxs_data=np.flip(Giwaxs_data)\n",
    "qxymax=14\n",
    "qxymin=-14\n",
    "qzmax=7.8\n",
    "qzmin=-2.515\n",
    "yp,xp=Giwaxs_data.shape\n",
    "\n",
    "# plot orignal GIWAXS pattern\n",
    "fig,ax=plt.subplots(figsize=(7,7))\n",
    "\n",
    "expp=ax.imshow(Giwaxs_data, interpolation='nearest', cmap=cm.jet,\n",
    "               origin='lower', extent=[-qxymax, qxymax, qzmin, qzmax],\n",
    "               vmax=0.00000001*Giwaxs_data.max(), vmin=Giwaxs_data.min(),alpha=0.5)\n",
    "fig.canvas.draw()\n",
    "qxymax1=5\n",
    "qxymin1=-5\n",
    "qzmax1=3\n",
    "qzmin1=0\n",
    "simp=ax.imshow(II1, interpolation='nearest', cmap=cm.jet,\n",
    "               origin='lower', extent=[-qxymax1, qxymax1, qzmin1, qzmax1],\n",
    "               vmax=0.00000001*Giwaxs_data.max(), vmin=Giwaxs_data.min(),alpha=0.5)\n",
    "ax.set_xlabel('q$_{x}$',fontsize=16)\n",
    "ax.set_ylabel('q$_{y}$',fontsize=16)\n",
    "ax.set_title('C5',fontsize=16)\n",
    "\n",
    "ax.set_xlim([min(qxymin1,qxymin),max(qxymax1,qxymax)])\n",
    "ax.set_ylim([min(qzmin1,qzmin),max(qzmax1,qzmax)])\n",
    "\n",
    "\n",
    "# plt.savefig('C:\\\\Users\\z4794\\Desktop\\C5.pdf')\n",
    "\n",
    "\n",
    "slider_ax = fig.add_axes([0.20, 0.1, 0.60, 0.03])\n",
    "slider = RangeSlider(slider_ax, \"Transparency\", -1, 1)\n",
    "\n",
    "def update(val):\n",
    "\n",
    "    simp.set_alpha(val[1])\n",
    "    expp.set_alpha(-val[0])\n",
    "    fig.canvas.draw_idle()\n",
    "\n",
    "\n",
    "slider.on_changed(update)\n",
    "fig.show()"
   ]
  },
  {
   "cell_type": "code",
   "execution_count": 20,
   "id": "7473f969",
   "metadata": {},
   "outputs": [],
   "source": []
  },
  {
   "cell_type": "code",
   "execution_count": null,
   "id": "2f7cd984",
   "metadata": {},
   "outputs": [],
   "source": []
  }
 ],
 "metadata": {
  "kernelspec": {
   "display_name": "Python 3 (ipykernel)",
   "language": "python",
   "name": "python3"
  },
  "language_info": {
   "codemirror_mode": {
    "name": "ipython",
    "version": 3
   },
   "file_extension": ".py",
   "mimetype": "text/x-python",
   "name": "python",
   "nbconvert_exporter": "python",
   "pygments_lexer": "ipython3",
   "version": "3.9.7"
  }
 },
 "nbformat": 4,
 "nbformat_minor": 5
}
